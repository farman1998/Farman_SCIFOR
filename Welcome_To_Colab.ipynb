{
  "cells": [
    {
      "cell_type": "markdown",
      "metadata": {
        "id": "view-in-github",
        "colab_type": "text"
      },
      "source": [
        "<a href=\"https://colab.research.google.com/github/farman1998/Farman_SCIFOR/blob/main/Welcome_To_Colab.ipynb\" target=\"_parent\"><img src=\"https://colab.research.google.com/assets/colab-badge.svg\" alt=\"Open In Colab\"/></a>"
      ]
    },
    {
      "cell_type": "code",
      "source": [
        "#list in python\n",
        "#creating a list\n",
        "num=[23,43,2,3,56,322,56,78,434]\n",
        "\n",
        "#add 45 in the last of list\n",
        "num.append(45)\n",
        "print(num)\n",
        "\n",
        "#insert 78 number in the index number 3\n",
        "num.insert(3,78)\n",
        "print(num)\n",
        "\n",
        "#deleteor remove  2 from the list\n",
        "num.remove(2)\n",
        "print(num)\n",
        "\n",
        "#remove the number which is in the place of index 4\n",
        "num.pop(4)\n",
        "print(num)\n",
        "\n",
        "#remove last element from the list\n",
        "num.pop()\n",
        "print(num)\n",
        "\n",
        "#delete all the number after index number 3\n",
        "del num[3:]\n",
        "print(num)\n",
        "\n",
        "#add multiple number into list\n",
        "num.extend([23,45,67,86,98,234,55,2,2])\n",
        "print(num)\n",
        "#min nmber of list\n",
        "print(min(num))\n",
        "print(max(num))\n",
        "print(sum(num))\n",
        "#sort the list in deaccending order\n",
        "num.sort(reverse=True)\n",
        "print(num)\n",
        "#sort list in accending order\n",
        "num.sort()\n",
        "print(num)\n"
      ],
      "metadata": {
        "id": "yymeAmS7Dr76",
        "outputId": "f9484be3-3538-40a8-be1e-e8b00974176b",
        "colab": {
          "base_uri": "https://localhost:8080/"
        }
      },
      "execution_count": 1,
      "outputs": [
        {
          "output_type": "stream",
          "name": "stdout",
          "text": [
            "[23, 43, 2, 3, 56, 322, 56, 78, 434, 45]\n",
            "[23, 43, 2, 78, 3, 56, 322, 56, 78, 434, 45]\n",
            "[23, 43, 78, 3, 56, 322, 56, 78, 434, 45]\n",
            "[23, 43, 78, 3, 322, 56, 78, 434, 45]\n",
            "[23, 43, 78, 3, 322, 56, 78, 434]\n",
            "[23, 43, 78]\n",
            "[23, 43, 78, 23, 45, 67, 86, 98, 234, 55, 2, 2]\n",
            "2\n",
            "234\n",
            "756\n",
            "[234, 98, 86, 78, 67, 55, 45, 43, 23, 23, 2, 2]\n",
            "[2, 2, 23, 23, 43, 45, 55, 67, 78, 86, 98, 234]\n"
          ]
        }
      ]
    }
  ],
  "metadata": {
    "colab": {
      "name": "Welcome To Colab",
      "provenance": [],
      "include_colab_link": true
    },
    "kernelspec": {
      "display_name": "Python 3",
      "name": "python3"
    }
  },
  "nbformat": 4,
  "nbformat_minor": 0
}