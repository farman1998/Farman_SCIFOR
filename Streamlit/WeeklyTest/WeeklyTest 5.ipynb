{
  "nbformat": 4,
  "nbformat_minor": 0,
  "metadata": {
    "colab": {
      "provenance": []
    },
    "kernelspec": {
      "name": "python3",
      "display_name": "Python 3"
    },
    "language_info": {
      "name": "python"
    }
  },
  "cells": [
    {
      "cell_type": "markdown",
      "source": [
        "**1.What is Streamlit and what are its main features?**\n",
        "\n",
        "Streamlit is a free and open-source framework for quickly creating and sharing visually appealing machine learning and data science web apps. It is a Python-based library created primarily for machine learning developers.\n",
        "\n",
        "Main features:\n",
        "*   Easy to use\n",
        "*   interactivity\n",
        "*   visulization\n",
        "*   Deployment\n",
        "*   Customization\n",
        "\n",
        "\n"
      ],
      "metadata": {
        "id": "MD21wKzXCgo1"
      }
    },
    {
      "cell_type": "markdown",
      "source": [
        "**2.How does Streamlit differ from other web application frameworks like Flask or Django?**\n",
        "\n",
        "Streamlit offers a gentle learning curve compared to other web frameworks like Flask or Django, making it an attractive choice for data scientists and developers looking to quickly turn data scripts into shareable web apps.\n",
        "\n",
        "* **Streamlit** is designed for rapid development of data applications, with less boilerplate code for visualizations and interactions. It's highly suitable for projects where the primary focus is data and analytics.\n",
        "* **Flask** provides more flexibility and control, ideal for custom web applications that require a traditional backend. It's lightweight and easy to learn but requires more setup for data-driven applications.\n",
        "* **Django** is a full-stack web framework with a built-in ORM and admin panel, best suited for complex, database-driven websites. It offers more features out of the box but has a steeper learning curve.\n"
      ],
      "metadata": {
        "id": "dpRSk7oTDZ0Y"
      }
    },
    {
      "cell_type": "markdown",
      "source": [
        "**3.What are some typical use cases for Streamlit?**\n",
        "\n",
        "* Interactive Dashboards\n",
        "* Machine Learning Model Deployment\n",
        "* Data Exploration Apps\n",
        "* Building an Interactive Data App"
      ],
      "metadata": {
        "id": "TExHOG-7EcJX"
      }
    },
    {
      "cell_type": "markdown",
      "source": [
        "**4.How do you create a simple Streamlit app?**\n",
        "\n",
        "\n",
        "\n",
        "1.   The first step is to create a new Python script. Let's call it uber_pickups.py.\n",
        "2.   Open uber_pickups.py in your favorite IDE or text editor, then add these lines:\n",
        "* *import streamlit as st*\n",
        "* *import pandas as pd*\n",
        "* *import numpy as np*\n",
        "3.  Every good app has a title, so let's add one:* st.title('Uber pickups in NYC')*\n",
        "4.  Now it's time to run Streamlit from the command line: *streamlit run uber_pickups.py*\n",
        "5.  As usual, the app should automatically open in a new tab in your browser.\n",
        "\n"
      ],
      "metadata": {
        "id": "yBP0LAaJFMDB"
      }
    },
    {
      "cell_type": "markdown",
      "source": [
        "**5.Can you explain the basic structure of a Streamlit script?**\n",
        "\n",
        "1. Import Streamlit\n",
        "At the beginning of your script, you need to import the Streamlit library.\n",
        "\n",
        "*import streamlit as st*\n",
        "\n",
        "2. Set the Title and Header\n",
        "You can set a title and headers for your web application.\n",
        "\n",
        "*st.title('My Streamlit App')*<br>\n",
        "*st.header('This is a header')*<br>\n",
        "*st.subheader('This is a subheader')*\n",
        "\n",
        "\n",
        "3. Add Text and Markdown\n",
        "You can add text and markdown to your app for instructions or descriptions.\n",
        "\n",
        "*st.text('This is some text.')*<br>\n",
        "*st.markdown('## This is a markdown heading')*\n",
        "\n",
        "4. Widgets for User Interaction\n",
        "Streamlit provides various widgets for user input, such as sliders, buttons, and text inputs.\n",
        "\n",
        "Text input<br>\n",
        "name = st.text_input('Enter your name')<br>\n",
        "Slider<br>\n",
        "age = st.slider('Select your age', 0, 100, 25)\n",
        "Button<br>\n",
        "if st.button('Submit'):<br>\n",
        "    st.write(f'Hello {name}, you are {age} years old!')\n",
        "\n",
        "5. Display Data\n",
        "You can display data in different formats, such as tables and charts.\n",
        "\n",
        "*import pandas as pd*\n",
        "\n",
        "*data = {'Name': ['John', 'Anna', 'Peter'], 'Age': [28, 24, 35]}*\n",
        "*df = pd.DataFrame(data)*\n",
        "*st.table(df)*\n",
        "\n",
        "6. Graphs and Plots\n",
        "\n",
        "\n",
        "Streamlit supports various plotting libraries like Matplotlib, Plotly, and Altair.\n",
        "\n",
        "import matplotlib.pyplot as plt\n",
        "\n",
        "\n",
        "import numpy as np\n",
        "\n",
        "x = np.linspace(0, 10, 100)\n",
        "\n",
        "\n",
        "y = np.sin(x)\n",
        "\n",
        "plt.plot(x, y)\n",
        "\n",
        "\n",
        "st.pyplot(plt)\n",
        "\n",
        "\n",
        "7. Layout Control\n",
        "You can control the layout using columns and other layout-related features.\n",
        "\n",
        "python\n",
        "Copy code\n",
        "col1, col2 = st.columns(2)\n",
        "\n",
        "with col1:\n",
        "    st.write('This is column 1')\n",
        "\n",
        "with col2:\n",
        "    st.write('This is column 2')\n",
        "8. Sidebar\n",
        "Streamlit has a sidebar for additional content or navigation.\n",
        "\n",
        "\n",
        "st.sidebar.title('Sidebar')\n",
        "\n",
        "st.sidebar.text('This is some sidebar text.')"
      ],
      "metadata": {
        "id": "OkLkl6arGtB3"
      }
    },
    {
      "cell_type": "markdown",
      "source": [
        "**6.How do you add widgets like sliders, buttons, and text inputs to a Streamlit app?**\n",
        "* slider<br>\n",
        "age = st.slider('Select your age', 0, 100, 25)<br>\n",
        "st.write(f'You are {age} years old')\n",
        "* buttons<br>\n",
        "if st.button('Submit'):<br>\n",
        "    st.write('Button clicked!')\n",
        "* text input<br>\n",
        "name = st.text_input('Enter your name')<br>\n",
        "st.write(f'Hello {name}')"
      ],
      "metadata": {
        "id": "dwBTWZTgKCW6"
      }
    },
    {
      "cell_type": "markdown",
      "source": [
        "**7.How does Streamlit handle user interaction and state management?**\n",
        "\n",
        "It automatically reruns the entire script from top to bottom every time a user interacts with a widget. This approach simplifies the development process but requires careful handling of state management. Here's how Streamlit manages user interactions and state:\n",
        "\n",
        "1. Automatic Rerun on Interaction\n",
        "Streamlit reruns the entire script whenever the user interacts with any widget. This ensures the UI is always in sync with the code.\n",
        "\n",
        "2. Session State\n",
        "To handle state across reruns, Streamlit provides the st.session_state API, which allows you to store and manage stateful variables."
      ],
      "metadata": {
        "id": "nfqBRUhtK8xJ"
      }
    },
    {
      "cell_type": "markdown",
      "source": [
        "**8.What are some best practices for organizing and structuring a Streamlit project?**\n",
        "\n",
        "1. Project Structure\n",
        "2. Main Application File\n",
        "3. Modularize Code\n",
        "4. Use Configuration Files\n",
        "5. Handle Dependencies with Requirements File\n",
        "6. Document Your Code\n",
        "7. Use Version Control\n",
        "8. Optimize for Performance\n",
        "9. Handle Errors Gracefully\n",
        "10. Use Logging\n"
      ],
      "metadata": {
        "id": "d45LbVGFL2D_"
      }
    },
    {
      "cell_type": "markdown",
      "source": [
        "**9.How would you deploy a Streamlit app locally?**\n",
        "\n",
        "1. Install Streamlit\n",
        "2. Prepare Your Streamlit Script\n",
        "3. Run the Streamlit App\n",
        "4. Access the App in Your Browser\n",
        "5. Interacting with the App\n"
      ],
      "metadata": {
        "id": "pft8ZDLMM4MZ"
      }
    },
    {
      "cell_type": "markdown",
      "source": [
        "**10.Can you describe the steps to deploy a Streamlit app?**\n",
        "\n",
        "1. Push Your Code to GitHub\n",
        "        Ensure your Streamlit app code is in a GitHub repository.\n",
        "\n",
        "2. Sign in to Streamlit Community Cloud\n",
        "\n",
        "\n",
        "         Go to Streamlit Community Cloud and sign in with your GitHub account.\n",
        "\n",
        "3. Deploy Your App\n",
        "\n",
        "    Click on \"New app\".\n",
        "\n",
        "    Connect to your GitHub repository.\n",
        "\n",
        "    Select the repository and branch, and specify the main file path (app.py).\n",
        "\n",
        "    Click \"Deploy\".\n"
      ],
      "metadata": {
        "id": "GtvkYXD2NvVg"
      }
    },
    {
      "cell_type": "markdown",
      "source": [
        "**11.What is the purpose of the requirements.txt file in the context of Streamlit deployment?**\n",
        "\n",
        "1. Dependency Management\n",
        "\n",
        "    The requirements.txt file lists all the Python packages your Streamlit app depends on, along with their versions. This ensures consistency across different environments (development, testing, production).\n",
        "\n",
        "2. Reproducibility\n",
        "\n",
        "    By specifying exact package versions, you can reproduce the same environment on different machines, avoiding the \"it works on my machine\" problem. This is particularly important for deployments where the environment needs to be identical to the development setup.\n",
        "\n",
        "3. Ease of Deployment\n",
        "\n",
        "    During deployment, many hosting services (like Heroku, Streamlit Community Cloud, AWS, etc.) automatically look for a requirements.txt file to install the necessary dependencies. This simplifies the deployment process, as you don't need to manually install each package.\n",
        "\n",
        "4. Collaboration\n",
        "\n",
        "    When working in a team, having a requirements.txt file ensures that all team members use the same dependencies, reducing potential conflicts and issues related to differing library versions."
      ],
      "metadata": {
        "id": "tgTZJbA7O-BA"
      }
    },
    {
      "cell_type": "code",
      "source": [],
      "metadata": {
        "id": "SdUusCO4Pnhr"
      },
      "execution_count": null,
      "outputs": []
    }
  ]
}