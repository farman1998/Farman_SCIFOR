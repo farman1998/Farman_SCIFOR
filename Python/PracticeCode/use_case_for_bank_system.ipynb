{
  "nbformat": 4,
  "nbformat_minor": 0,
  "metadata": {
    "colab": {
      "provenance": [],
      "authorship_tag": "ABX9TyOlRbKlPl0ubu7LJ/lXeRLb",
      "include_colab_link": true
    },
    "kernelspec": {
      "name": "python3",
      "display_name": "Python 3"
    },
    "language_info": {
      "name": "python"
    }
  },
  "cells": [
    {
      "cell_type": "markdown",
      "metadata": {
        "id": "view-in-github",
        "colab_type": "text"
      },
      "source": [
        "<a href=\"https://colab.research.google.com/github/farman1998/Farman_SCIFOR/blob/main/use_case_for_bank_system.ipynb\" target=\"_parent\"><img src=\"https://colab.research.google.com/assets/colab-badge.svg\" alt=\"Open In Colab\"/></a>"
      ]
    },
    {
      "cell_type": "code",
      "execution_count": null,
      "metadata": {
        "id": "F83PjBhDTlPb"
      },
      "outputs": [],
      "source": [
        "class Bank:\n",
        "    def __init__(self, initial_balance, pin):\n",
        "        self.balance = initial_balance\n",
        "        self.pin = pin\n",
        "\n",
        "    def verify_pin(self, input_pin):\n",
        "        return self.pin == input_pin\n",
        "\n",
        "    def withdraw(self, amount, input_pin):\n",
        "        if not self.verify_pin(input_pin):\n",
        "            return \"Invalid PIN\"\n",
        "        if amount > self.balance:\n",
        "            return \"Insufficient funds\"\n",
        "        self.balance -= amount\n",
        "        return f\"Withdrawal successful: ${amount}\\nCurrent balance: ${self.balance}\"\n",
        "\n",
        "    def deposit(self, amount, input_pin):\n",
        "        if not self.verify_pin(input_pin):\n",
        "            return \"Invalid PIN\"\n",
        "        self.balance += amount\n",
        "        return f\"Deposit successful: ${amount}\\nCurrent balance: ${self.balance}\"\n",
        "\n",
        "\n",
        "def main():\n",
        "    # Initialize bank account with an initial balance and a pin\n",
        "    bank_account = Bank(initial_balance=1000, pin=1234)\n",
        "\n",
        "    while True:\n",
        "        print(\"\\n1. Withdrawal\")\n",
        "        print(\"\\n2. Deposit\")\n",
        "        choice = input(\"Enter your choice (1 for Withdrawal, 2 for Deposit, q to quit): \")\n",
        "\n",
        "        if choice == 'q':\n",
        "            print(\"Thank you for using our service!\")\n",
        "            break\n",
        "\n",
        "        if choice not in ['1', '2']:\n",
        "            print(\"Invalid choice. Please enter 1 or 2.\")\n",
        "            continue\n",
        "\n",
        "        input_pin = int(input(\"Enter your PIN: \"))\n",
        "\n",
        "        if choice == '1':\n",
        "            amount = float(input(\"Enter amount to withdraw: \"))\n",
        "            result = bank_account.withdraw(amount, input_pin)\n",
        "            print(result)\n",
        "\n",
        "        elif choice == '2':\n",
        "            amount = float(input(\"Enter amount to deposit: \"))\n",
        "            result = bank_account.deposit(amount, input_pin)\n",
        "            print(result)\n",
        "\n",
        "\n",
        "if __name__ == \"__main__\":\n",
        "    main()\n"
      ]
    }
  ]
}