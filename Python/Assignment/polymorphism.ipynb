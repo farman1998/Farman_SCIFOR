{
  "nbformat": 4,
  "nbformat_minor": 0,
  "metadata": {
    "colab": {
      "provenance": []
    },
    "kernelspec": {
      "name": "python3",
      "display_name": "Python 3"
    },
    "language_info": {
      "name": "python"
    }
  },
  "cells": [
    {
      "cell_type": "markdown",
      "source": [
        "#<b>Documentation</b>\n",
        "\n",
        "\n",
        "1.   Introduction to Encapsulation\n",
        "*  Definition\n",
        "*  Importance\n",
        "\n",
        "2. Basics of Encapsulation in Python\n",
        "*   Private and Public Members\n",
        "*   Getter and Setter Methods\n",
        "\n",
        "3. Real Life Example\n",
        "*  Example Scenario: Bank Account\n",
        "\n",
        "4. Implementation\n",
        "*  Code Example\n",
        "*  Explanation\n",
        "\n",
        "5. Submitting on GitHub\n",
        "*   Creating a Repository\n",
        "*   Adding Files\n",
        "*   Committing and Pushing Changes\n",
        "\n",
        "\n",
        "\n",
        "\n",
        "\n"
      ],
      "metadata": {
        "id": "OOLPx8GcN95S"
      }
    },
    {
      "cell_type": "markdown",
      "source": [
        "###<font color=\"blue\">Encapsulation in Python</font>\n",
        "<b>1. Introduction to Encapsulation,Definition:</b><br>\n",
        "<b>Definition:</b><br>\n",
        "Encapsulation is one of the fundamental concepts in object-oriented programming (OOP). It refers to the bundling of data with the methods that operate on that data, restricting direct access to some of the object's components.\n",
        "\n",
        "<b>Importance:</b>\n",
        "* Data Hiding: Protects the internal state of the object from unintended or harmful changes.\n",
        "* Modularity: Encourages a modular approach, making the codebase more manageable.\n",
        "* Maintenance: Simplifies maintenance and increases flexibility in code.\n",
        "\n",
        "<b>2. Basics of Encapsulation in Python</b><br>\n",
        "<B>Private and Public Members:</b><br>\n",
        "*   Public members (variables or methods) are accessible from outside the class.\n",
        "*   Private members are intended to be accessed only within the class. In Python, private members are prefixed with a double underscore __.\n",
        "\n",
        "<b>Getter and Setter Methods:</b>\n",
        "\n",
        "*   Getters: Methods used to access private variables.\n",
        "*   Setters: Methods used to modify private variables.\n",
        "\n",
        "<b>3. Real-Life Example: Bank Account</b><br>\n",
        "Scenario:<br>\n",
        "Consider a bank account where we want to restrict direct access to the account balance to ensure it cannot be set to an invalid value directly.\n",
        "\n",
        "\n",
        "\n"
      ],
      "metadata": {
        "id": "A4JD3spcRyFL"
      }
    },
    {
      "cell_type": "code",
      "source": [
        "#4. Implementation\n",
        "#Code Example:\n",
        "class BankAccount:\n",
        "    def __init__(self, account_number, initial_balance):\n",
        "        self.__account_number = account_number  # private variable\n",
        "        self.__balance = initial_balance  # private variable\n",
        "\n",
        "    def get_balance(self):\n",
        "        return self.__balance\n",
        "\n",
        "    def deposit(self, amount):\n",
        "        if amount > 0:\n",
        "            self.__balance += amount\n",
        "            return True\n",
        "        return False\n",
        "\n",
        "    def withdraw(self, amount):\n",
        "        if 0 < amount <= self.__balance:\n",
        "            self.__balance -= amount\n",
        "            return True\n",
        "        return False\n",
        "\n",
        "# Usage\n",
        "account = BankAccount(\"12345678\", 1000)\n",
        "print(account.get_balance())  # Output: 1000\n",
        "account.deposit(500)\n",
        "print(account.get_balance())  # Output: 1500\n",
        "account.withdraw(200)\n",
        "print(account.get_balance())  # Output: 1300\n"
      ],
      "metadata": {
        "colab": {
          "base_uri": "https://localhost:8080/"
        },
        "id": "QEGJndLwY4Ji",
        "outputId": "ba65a147-facf-4146-caba-7694619b497b"
      },
      "execution_count": 1,
      "outputs": [
        {
          "output_type": "stream",
          "name": "stdout",
          "text": [
            "1000\n",
            "1500\n",
            "1300\n"
          ]
        }
      ]
    },
    {
      "cell_type": "markdown",
      "source": [
        "<b>Explanation:</b><br>\n",
        "\n",
        "*   __account_number and __balance are private members.\n",
        "*   Methods get_balance, deposit, and withdraw control the access to these private members.\n",
        "\n",
        "\n",
        "\n"
      ],
      "metadata": {
        "id": "p3jHQXMgbOef"
      }
    },
    {
      "cell_type": "markdown",
      "source": [
        "<b>4. Submitting on GitHub</b><br>\n",
        "<b>Creating a Repository:</b>\n",
        "\n",
        "1.   Go to GitHub and create a new repository.\n",
        "2.   Name the repository (e.g., python-encapsulation-example).\n",
        "\n",
        "<b>Adding Files:</b>\n",
        "\n",
        "1.   Create a README.md file with the documentation.\n",
        "2.   Add the Python script (bank_account.py) with the implementation.\n",
        "\n",
        "**Committing and Pushing Changes:**\n",
        "\n"
      ],
      "metadata": {
        "id": "ZdN7YBM2cC64"
      }
    },
    {
      "cell_type": "code",
      "source": [],
      "metadata": {
        "id": "eGKTyqWNdKWm"
      },
      "execution_count": null,
      "outputs": []
    }
  ]
}