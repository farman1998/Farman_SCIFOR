{
  "nbformat": 4,
  "nbformat_minor": 0,
  "metadata": {
    "colab": {
      "provenance": []
    },
    "kernelspec": {
      "name": "python3",
      "display_name": "Python 3"
    },
    "language_info": {
      "name": "python"
    }
  },
  "cells": [
    {
      "cell_type": "code",
      "execution_count": null,
      "metadata": {
        "id": "H3e15llkHYKe"
      },
      "outputs": [],
      "source": []
    },
    {
      "cell_type": "markdown",
      "source": [
        "##Q.2 Method Overloading\n",
        "having two or more methods (or functions) in a class with the same name and different arguments (or parameters)."
      ],
      "metadata": {
        "id": "-GgamBC0Hr3Q"
      }
    },
    {
      "cell_type": "code",
      "source": [
        "class example:\n",
        "   def add(self, a = None, b = None, c = None):\n",
        "      x=0\n",
        "      if a !=None and b != None and c != None:\n",
        "         x = a+b+c\n",
        "      elif a !=None and b != None and c == None:\n",
        "         x = a+b\n",
        "      return x\n",
        "\n",
        "obj = example()\n",
        "\n",
        "print (obj.add(1,2,3))\n",
        "print (obj.add(1,2))"
      ],
      "metadata": {
        "colab": {
          "base_uri": "https://localhost:8080/"
        },
        "id": "Nne-v3-FH3At",
        "outputId": "8eb25269-017c-490f-dc95-7698e357e3d9"
      },
      "execution_count": 8,
      "outputs": [
        {
          "output_type": "stream",
          "name": "stdout",
          "text": [
            "6\n",
            "3\n"
          ]
        }
      ]
    },
    {
      "cell_type": "markdown",
      "source": [
        "##Q.2 Method Overriding\n",
        "having same function name in both superclass and subclass and perform diffrent  task."
      ],
      "metadata": {
        "id": "0Z_UIxDxOPoC"
      }
    },
    {
      "cell_type": "code",
      "source": [
        "#method overriding in single level inheritance\n",
        "class Parent:\n",
        "   def skills(self):\n",
        "      print (\"parents's skills\")\n",
        "\n",
        "class Child(Parent):\n",
        "   def skills(self):\n",
        "      print (\"child skills\")\n",
        "\n",
        "# instance of child\n",
        "c = Child()\n",
        "# child calls overridden method\n",
        "c.skills()"
      ],
      "metadata": {
        "colab": {
          "base_uri": "https://localhost:8080/"
        },
        "id": "W7EP7xtsOTHq",
        "outputId": "7b79ccc1-9da9-4e02-ef1c-3cf24686b8ee"
      },
      "execution_count": 10,
      "outputs": [
        {
          "output_type": "stream",
          "name": "stdout",
          "text": [
            "child skills\n"
          ]
        }
      ]
    },
    {
      "cell_type": "markdown",
      "source": [
        "##Q.3 Python to show all levels of inheritance"
      ],
      "metadata": {
        "id": "BVo8UFffQDUC"
      }
    },
    {
      "cell_type": "code",
      "source": [
        "# Single Inheritance\n",
        "class Animal:\n",
        "    def speak(self):\n",
        "        print(\"Animal speaks\")\n",
        "\n",
        "class Dog(Animal):\n",
        "    def bark(self):\n",
        "        print(\"Dog barks\")\n",
        "\n",
        "# Multiple Inheritance\n",
        "class Bird:\n",
        "    def fly(self):\n",
        "        print(\"Bird flies\")\n",
        "\n",
        "class Fish:\n",
        "    def swim(self):\n",
        "        print(\"Fish swims\")\n",
        "\n",
        "class FlyingFish(Bird, Fish):\n",
        "    def glide(self):\n",
        "        print(\"FlyingFish glides\")\n",
        "\n",
        "# Multilevel Inheritance\n",
        "class Mammal(Animal):\n",
        "    def walk(self):\n",
        "        print(\"Mammal walks\")\n",
        "\n",
        "class Human(Mammal):\n",
        "    def talk(self):\n",
        "        print(\"Human talks\")\n",
        "\n",
        "# Hierarchical Inheritance\n",
        "class Cat(Animal):\n",
        "    def meow(self):\n",
        "        print(\"Cat meows\")\n",
        "\n",
        "class Cow(Animal):\n",
        "    def moo(self):\n",
        "        print(\"Cow moos\")\n",
        "\n",
        "# Hybrid Inheritance (combination of multiple and multilevel inheritance)\n",
        "class Reptile(Animal):\n",
        "    def crawl(self):\n",
        "        print(\"Reptile crawls\")\n",
        "\n",
        "class Lizard(Reptile):\n",
        "    def sunbathe(self):\n",
        "        print(\"Lizard sunbathes\")\n",
        "\n",
        "class Chameleon(Lizard, Animal):\n",
        "    def change_color(self):\n",
        "        print(\"Chameleon changes color\")\n",
        "\n",
        "# Testing the inheritance structures\n",
        "\n",
        "# Single Inheritance\n",
        "print(\"Single Inheritance\")\n",
        "dog = Dog()\n",
        "dog.speak()  # Inherited from Animal\n",
        "dog.bark()\n",
        "\n",
        "# Multiple Inheritance\n",
        "print(\"\\nMultiple Inheritance\")\n",
        "flying_fish = FlyingFish()\n",
        "flying_fish.fly()  # Inherited from Bird\n",
        "flying_fish.swim()  # Inherited from Fish\n",
        "flying_fish.glide()\n",
        "\n",
        "# Multilevel Inheritance\n",
        "print(\"\\nMultilevel Inheritance\")\n",
        "human = Human()\n",
        "human.speak()  # Inherited from Animal\n",
        "human.walk()  # Inherited from Mammal\n",
        "human.talk()\n",
        "\n",
        "# Hierarchical Inheritance\n",
        "print(\"\\nHierarchical Inheritance\")\n",
        "cat = Cat()\n",
        "cat.speak()  # Inherited from Animal\n",
        "cat.meow()\n",
        "\n",
        "cow = Cow()\n",
        "cow.speak()  # Inherited from Animal\n",
        "cow.moo()\n",
        "\n",
        "# Hybrid Inheritance\n",
        "print(\"\\nHybrid Inheritance\")\n",
        "chameleon = Chameleon()\n",
        "chameleon.speak()  # Inherited from Animal\n",
        "chameleon.crawl()  # Inherited from Reptile\n",
        "chameleon.sunbathe()  # Inherited from Lizard\n",
        "chameleon.change_color()\n"
      ],
      "metadata": {
        "colab": {
          "base_uri": "https://localhost:8080/"
        },
        "id": "bWIzg3v0VMVu",
        "outputId": "cfbb190e-463e-4f91-fd06-e366b84a1f4b"
      },
      "execution_count": 11,
      "outputs": [
        {
          "output_type": "stream",
          "name": "stdout",
          "text": [
            "Single Inheritance\n",
            "Animal speaks\n",
            "Dog barks\n",
            "\n",
            "Multiple Inheritance\n",
            "Bird flies\n",
            "Fish swims\n",
            "FlyingFish glides\n",
            "\n",
            "Multilevel Inheritance\n",
            "Animal speaks\n",
            "Mammal walks\n",
            "Human talks\n",
            "\n",
            "Hierarchical Inheritance\n",
            "Animal speaks\n",
            "Cat meows\n",
            "Animal speaks\n",
            "Cow moos\n",
            "\n",
            "Hybrid Inheritance\n",
            "Animal speaks\n",
            "Reptile crawls\n",
            "Lizard sunbathes\n",
            "Chameleon changes color\n"
          ]
        }
      ]
    },
    {
      "cell_type": "code",
      "source": [],
      "metadata": {
        "id": "F0rYxDR9Vc6c"
      },
      "execution_count": null,
      "outputs": []
    }
  ]
}