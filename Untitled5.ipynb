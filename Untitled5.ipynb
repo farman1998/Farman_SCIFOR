{
  "nbformat": 4,
  "nbformat_minor": 0,
  "metadata": {
    "colab": {
      "provenance": [],
      "authorship_tag": "ABX9TyMR2JSMTBelkNuxT+j+EzmV",
      "include_colab_link": true
    },
    "kernelspec": {
      "name": "python3",
      "display_name": "Python 3"
    },
    "language_info": {
      "name": "python"
    }
  },
  "cells": [
    {
      "cell_type": "markdown",
      "metadata": {
        "id": "view-in-github",
        "colab_type": "text"
      },
      "source": [
        "<a href=\"https://colab.research.google.com/github/farman1998/Farman_SCIFOR/blob/main/Untitled5.ipynb\" target=\"_parent\"><img src=\"https://colab.research.google.com/assets/colab-badge.svg\" alt=\"Open In Colab\"/></a>"
      ]
    },
    {
      "cell_type": "markdown",
      "source": [
        "#**MACHINE LEARNING**"
      ],
      "metadata": {
        "id": "mO-Lg2yLzNho"
      }
    },
    {
      "cell_type": "markdown",
      "source": [
        "##SUPERVISED LEARNING<BR>\n",
        "Supervised learning is a type of machine learning algorithm that learns from labeled data. Labeled data is data that has been tagged with a correct answer or classification.\n",
        "\n"
      ],
      "metadata": {
        "id": "qS5Y0yepzl3o"
      }
    },
    {
      "cell_type": "markdown",
      "source": [
        "Key Points:\n",
        "\n",
        "\n",
        "\n",
        "*   Supervised learning involves training a machine from labeled data.\n",
        "*   Labeled data consists of examples with the correct answer or classification.\n",
        "*   The machine learns the relationship between inputs (fruit images) and outputs (fruit labels).\n",
        "*   The trained machine can then make predictions on new, unlabeled data.\n",
        "\n",
        "\n",
        "\n",
        "\n"
      ],
      "metadata": {
        "id": "VpCXNycN0xv-"
      }
    },
    {
      "cell_type": "markdown",
      "source": [
        "**Types of Supervised Learning**<BR>\n",
        "Supervised learning is classified into two categories of algorithms:\n",
        "\n",
        "Regression: A regression problem is when the output variable is a real value, such as “dollars” or “weight”.\n",
        "\n",
        "Classification: A classification problem is when the output variable is a category, such as “Red” or “blue” , “disease” or “no disease”."
      ],
      "metadata": {
        "id": "xT-9K8Zb03jo"
      }
    },
    {
      "cell_type": "markdown",
      "source": [
        "##Unsupervised learning\n",
        "Unsupervised learning is a type of machine learning that learns from unlabeled data. This means that the data does not have any pre-existing labels or categories. The goal of unsupervised learning is to discover patterns and relationships in the data without any explicit guidance."
      ],
      "metadata": {
        "id": "BjXMVmuf1jkY"
      }
    },
    {
      "cell_type": "markdown",
      "source": [
        "Key Points:\n",
        "\n",
        "*   Unsupervised learning allows the model to discover patterns and relationships in unlabeled data.\n",
        "*   Clustering algorithms group similar data points together based on their inherent characteristics.\n",
        "*   Feature extraction captures essential information from the data, enabling the model to make meaningful distinctions.\n",
        "*   Label association assigns categories to the clusters based on the extracted patterns and characteristics."
      ],
      "metadata": {
        "id": "08Y_ZQD52Nde"
      }
    },
    {
      "cell_type": "markdown",
      "source": [
        "##REINFORCEMENT LEARNING"
      ],
      "metadata": {
        "id": "Z6EkwPeL5ntt"
      }
    },
    {
      "cell_type": "markdown",
      "source": [
        "Reinforcement learning is an area of Machine Learning. It is about taking suitable action to maximize reward in a particular situation. It is employed by various software and machines to find the best possible behavior or path it should take in a specific situation. Reinforcement learning differs from supervised learning in a way that in supervised learning the training data has the answer key with it so the model is trained with the correct answer itself whereas in reinforcement learning, there is no answer but the reinforcement agent decides what to do to perform the given task. In the absence of a training dataset, it is bound to learn from its experience."
      ],
      "metadata": {
        "id": "Rll-4RmZ5nlC"
      }
    },
    {
      "cell_type": "markdown",
      "source": [
        "Key Points:\n",
        "\n",
        "\n",
        "*  Input: The input should be an initial state from which the model will start\n",
        "*  Output: There are many possible outputs as there are a variety of solutions to a particular problem\n",
        "*  Training: The training is based upon the input, The model will return a state and the user will decide to reward or punish the model based on its output.\n",
        "*  The model keeps continues to learn.\n",
        "*  The best solution is decided based on the maximum reward."
      ],
      "metadata": {
        "id": "DqqfRHsN6IZC"
      }
    },
    {
      "cell_type": "code",
      "source": [],
      "metadata": {
        "id": "27Q6E8xb6V3_"
      },
      "execution_count": null,
      "outputs": []
    },
    {
      "cell_type": "code",
      "source": [],
      "metadata": {
        "id": "RuTtUEN-8x-7"
      },
      "execution_count": null,
      "outputs": []
    }
  ]
}