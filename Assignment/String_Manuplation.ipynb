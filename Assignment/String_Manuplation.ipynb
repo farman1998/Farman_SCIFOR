{
  "nbformat": 4,
  "nbformat_minor": 0,
  "metadata": {
    "colab": {
      "provenance": []
    },
    "kernelspec": {
      "name": "python3",
      "display_name": "Python 3"
    },
    "language_info": {
      "name": "python"
    }
  },
  "cells": [
    {
      "cell_type": "markdown",
      "source": [
        "##<b>String Manuplation</B><BR>\n",
        "String is a character sequence enclosed in single or double quotes.<BR>\n",
        "String is immutable it means we cant change once we assign it.\n"
      ],
      "metadata": {
        "id": "1ELLmlHV-zPU"
      }
    },
    {
      "cell_type": "code",
      "source": [
        "name=\"MohdFarman\""
      ],
      "metadata": {
        "id": "ligUY76i-9HD"
      },
      "execution_count": null,
      "outputs": []
    },
    {
      "cell_type": "code",
      "source": [
        "print(name[2]) #we can acess any charcter from string by index number. index number start woth 0."
      ],
      "metadata": {
        "colab": {
          "base_uri": "https://localhost:8080/"
        },
        "id": "Mbwqa_5m_zuk",
        "outputId": "811076c9-8f77-44de-cfa2-c7c9af415a90"
      },
      "execution_count": null,
      "outputs": [
        {
          "output_type": "stream",
          "name": "stdout",
          "text": [
            "h\n"
          ]
        }
      ]
    },
    {
      "cell_type": "code",
      "source": [
        "print(name[-2]) #we can also acess char number by reverse order with (-) sign"
      ],
      "metadata": {
        "colab": {
          "base_uri": "https://localhost:8080/"
        },
        "id": "aSD7c7RK_4OV",
        "outputId": "9a3704ee-e423-4891-c174-b8605253ed0d"
      },
      "execution_count": null,
      "outputs": [
        {
          "output_type": "stream",
          "name": "stdout",
          "text": [
            "a\n"
          ]
        }
      ]
    },
    {
      "cell_type": "markdown",
      "source": [
        "###<font color='blue'>String Traverse"
      ],
      "metadata": {
        "id": "Iqf9waxXBVc6"
      }
    },
    {
      "cell_type": "code",
      "source": [
        "#we can acess each number in a single vertical line.\n",
        "collage=\"galgotiasuniversity\"\n",
        "for ch in collage:\n",
        "  print(ch)"
      ],
      "metadata": {
        "colab": {
          "base_uri": "https://localhost:8080/"
        },
        "id": "Pr5I6f4GBhiL",
        "outputId": "1f2be238-dcc4-45b3-86f6-60b9af242396"
      },
      "execution_count": null,
      "outputs": [
        {
          "output_type": "stream",
          "name": "stdout",
          "text": [
            "g\n",
            "a\n",
            "l\n",
            "g\n",
            "o\n",
            "t\n",
            "i\n",
            "a\n",
            "s\n",
            "u\n",
            "n\n",
            "i\n",
            "v\n",
            "e\n",
            "r\n",
            "s\n",
            "i\n",
            "t\n",
            "y\n"
          ]
        }
      ]
    },
    {
      "cell_type": "code",
      "source": [
        "#for horizontal line we can use end.\n",
        "collage=\"galgotiasuniversity\"\n",
        "for ch in collage:\n",
        "  print(ch, end=' ')"
      ],
      "metadata": {
        "colab": {
          "base_uri": "https://localhost:8080/"
        },
        "id": "730i3H0PCZ9Y",
        "outputId": "7b58203f-6b99-4ff0-b0b3-9d3eaa8687a7"
      },
      "execution_count": null,
      "outputs": [
        {
          "output_type": "stream",
          "name": "stdout",
          "text": [
            "g a l g o t i a s u n i v e r s i t y "
          ]
        }
      ]
    },
    {
      "cell_type": "markdown",
      "source": [
        "###<font color='blue'>Range of Traverse"
      ],
      "metadata": {
        "id": "NTBGiLscELd5"
      }
    },
    {
      "cell_type": "code",
      "source": [
        "#we can find the actual range of string by write some simple code and range will be show in term of number strating from 0.\n",
        "teacher=\"urozkhan\"\n",
        "for ch in range(0,len(teacher)):\n",
        "  print(ch,end=' ')"
      ],
      "metadata": {
        "colab": {
          "base_uri": "https://localhost:8080/"
        },
        "id": "MnUb37HWERQl",
        "outputId": "ea6516c2-97cd-42ee-ae91-c186ded7c94b"
      },
      "execution_count": null,
      "outputs": [
        {
          "output_type": "stream",
          "name": "stdout",
          "text": [
            "0 1 2 3 4 5 6 7 "
          ]
        }
      ]
    },
    {
      "cell_type": "code",
      "source": [
        "#range in vertical line\n",
        "teacher=\"urozkhan\"\n",
        "for ch in range(0,len(teacher)):\n",
        "  print(ch)"
      ],
      "metadata": {
        "colab": {
          "base_uri": "https://localhost:8080/"
        },
        "id": "vh9mmletEnjs",
        "outputId": "3a2f95b6-acb3-4f5c-c8d6-03266716be5d"
      },
      "execution_count": null,
      "outputs": [
        {
          "output_type": "stream",
          "name": "stdout",
          "text": [
            "0\n",
            "1\n",
            "2\n",
            "3\n",
            "4\n",
            "5\n",
            "6\n",
            "7\n"
          ]
        }
      ]
    },
    {
      "cell_type": "markdown",
      "source": [
        "###<font color='blue'>Reverse String Order"
      ],
      "metadata": {
        "id": "AmVX29MqHEiw"
      }
    },
    {
      "cell_type": "code",
      "source": [
        "#we can reverse the string\n",
        "name=input(\"enter your name\")\n",
        "for ch in range(-1,-len(name)-1,-1):\n",
        "  print(name[ch],end=' ')\n"
      ],
      "metadata": {
        "colab": {
          "base_uri": "https://localhost:8080/"
        },
        "id": "YAB5DNnDHN5v",
        "outputId": "fb4676a4-ce05-4dd6-b00a-78c8817dcf60"
      },
      "execution_count": null,
      "outputs": [
        {
          "output_type": "stream",
          "name": "stdout",
          "text": [
            "enter your namefarman\n",
            "n a m r a f "
          ]
        }
      ]
    },
    {
      "cell_type": "code",
      "source": [
        "name=input(\"enter your name\")\n",
        "for ch in range(-1,-len(name)-1,-1):\n",
        "  print(name[ch],end=' ')"
      ],
      "metadata": {
        "colab": {
          "base_uri": "https://localhost:8080/"
        },
        "id": "bEY7oF1VHggP",
        "outputId": "a8394830-70ff-4754-fc2e-3ad2ca1e2d76"
      },
      "execution_count": null,
      "outputs": [
        {
          "output_type": "stream",
          "name": "stdout",
          "text": [
            "enter your namepython\n",
            "n o h t y p "
          ]
        }
      ]
    },
    {
      "cell_type": "markdown",
      "source": [
        "##<b>String Operation</B><BR>\n",
        "<b>Two basic operation can perform in string * and +.</b><br>\n",
        "1. '+' for joining two string(concatenation).<br>\n",
        "2. '*' for repetiton string or multiply.\n"
      ],
      "metadata": {
        "id": "z-mrS5VlJzuH"
      }
    },
    {
      "cell_type": "code",
      "source": [
        "string1='mohd'\n",
        "string2='farman'\n",
        "print(string1+' '+string2)"
      ],
      "metadata": {
        "colab": {
          "base_uri": "https://localhost:8080/"
        },
        "id": "gsN5cckOKcXV",
        "outputId": "f8b77b10-8d55-46d2-9150-9f53fb2af238"
      },
      "execution_count": null,
      "outputs": [
        {
          "output_type": "stream",
          "name": "stdout",
          "text": [
            "mohd farman\n"
          ]
        }
      ]
    },
    {
      "cell_type": "code",
      "source": [
        "name=input(\"enter your name\")\n",
        "age=(input(\"enter your age\"))\n",
        "name_age=name+''+age\n",
        "print(name_age)"
      ],
      "metadata": {
        "colab": {
          "base_uri": "https://localhost:8080/"
        },
        "id": "0pqwkRrgKxX_",
        "outputId": "769c8f5d-9138-4634-ec14-d3c628348cbb"
      },
      "execution_count": null,
      "outputs": [
        {
          "output_type": "stream",
          "name": "stdout",
          "text": [
            "enter your namefarman\n",
            "enter your age26\n",
            "farman26\n"
          ]
        }
      ]
    },
    {
      "cell_type": "code",
      "source": [
        "#string multiply\n",
        "name='farman'\n",
        "print(5*\n",
        "name)"
      ],
      "metadata": {
        "colab": {
          "base_uri": "https://localhost:8080/"
        },
        "id": "BFXjZ89zLfx8",
        "outputId": "779e7269-4ba6-4649-b56c-ecff85997dd7"
      },
      "execution_count": null,
      "outputs": [
        {
          "output_type": "stream",
          "name": "stdout",
          "text": [
            "farmanfarmanfarmanfarmanfarman\n"
          ]
        }
      ]
    },
    {
      "cell_type": "code",
      "source": [
        "name='meera'\n",
        "n=4\n",
        "print(n*name)"
      ],
      "metadata": {
        "colab": {
          "base_uri": "https://localhost:8080/"
        },
        "id": "MzRNQlheMw3l",
        "outputId": "f31ca4ad-9363-478b-bb3c-1d339e043161"
      },
      "execution_count": null,
      "outputs": [
        {
          "output_type": "stream",
          "name": "stdout",
          "text": [
            "meerameerameerameera\n"
          ]
        }
      ]
    },
    {
      "cell_type": "code",
      "source": [
        "n1=34\n",
        "n2=5\n",
        "print(n1*n2)"
      ],
      "metadata": {
        "colab": {
          "base_uri": "https://localhost:8080/"
        },
        "id": "KpF1kr38NLhl",
        "outputId": "b0a1a0cb-b4d9-4fd4-8d1d-b4ff32871cce"
      },
      "execution_count": null,
      "outputs": [
        {
          "output_type": "stream",
          "name": "stdout",
          "text": [
            "170\n"
          ]
        }
      ]
    },
    {
      "cell_type": "markdown",
      "source": [
        "###<font color='blue'>Member Operation<br>\n",
        "Member operation is used to check whether is character is present in the string or not if its present then it will print true otherwise print false."
      ],
      "metadata": {
        "id": "b-phk9wmP_R_"
      }
    },
    {
      "cell_type": "code",
      "source": [
        "name0=\"mohdfarman\"\n",
        "'m' in \"name0\"\n"
      ],
      "metadata": {
        "colab": {
          "base_uri": "https://localhost:8080/"
        },
        "id": "2p6HkCV7Ndau",
        "outputId": "bed3fa6c-1924-400e-dd81-3c5254497c16"
      },
      "execution_count": null,
      "outputs": [
        {
          "output_type": "execute_result",
          "data": {
            "text/plain": [
              "True"
            ]
          },
          "metadata": {},
          "execution_count": 52
        }
      ]
    },
    {
      "cell_type": "code",
      "source": [
        "name1='mohsin'\n",
        "'hsin' in \"name1\""
      ],
      "metadata": {
        "colab": {
          "base_uri": "https://localhost:8080/"
        },
        "id": "_9WfwLdDQ0rU",
        "outputId": "834a934b-dd67-4fe6-bfb0-d78f84793bfc"
      },
      "execution_count": null,
      "outputs": [
        {
          "output_type": "execute_result",
          "data": {
            "text/plain": [
              "False"
            ]
          },
          "metadata": {},
          "execution_count": 55
        }
      ]
    },
    {
      "cell_type": "code",
      "source": [
        "name3=\"adnan\"\n",
        "'d' in \"name3\""
      ],
      "metadata": {
        "colab": {
          "base_uri": "https://localhost:8080/"
        },
        "id": "YhHH1H8aRDfs",
        "outputId": "0c7a0ad0-26c8-4793-a56c-0aa1f75501c5"
      },
      "execution_count": null,
      "outputs": [
        {
          "output_type": "execute_result",
          "data": {
            "text/plain": [
              "False"
            ]
          },
          "metadata": {},
          "execution_count": 7
        }
      ]
    },
    {
      "cell_type": "code",
      "source": [
        "actres=\"salman\"\n",
        "'n' in \"actres\""
      ],
      "metadata": {
        "colab": {
          "base_uri": "https://localhost:8080/"
        },
        "id": "WEt8V4i7R3E5",
        "outputId": "02f8ac19-320e-4bcf-a862-92d92e8d375c"
      },
      "execution_count": null,
      "outputs": [
        {
          "output_type": "execute_result",
          "data": {
            "text/plain": [
              "False"
            ]
          },
          "metadata": {},
          "execution_count": 5
        }
      ]
    },
    {
      "cell_type": "code",
      "source": [
        "n=\"computer\"\n",
        "'c' in \"n\""
      ],
      "metadata": {
        "id": "PYiMZW5ISdZW",
        "colab": {
          "base_uri": "https://localhost:8080/"
        },
        "outputId": "d969aeac-071d-4308-8221-b50d2383e4cd"
      },
      "execution_count": null,
      "outputs": [
        {
          "output_type": "execute_result",
          "data": {
            "text/plain": [
              "False"
            ]
          },
          "metadata": {},
          "execution_count": 1
        }
      ]
    },
    {
      "cell_type": "code",
      "source": [],
      "metadata": {
        "id": "o9BdaDXNzFeb"
      },
      "execution_count": null,
      "outputs": []
    }
  ]
}