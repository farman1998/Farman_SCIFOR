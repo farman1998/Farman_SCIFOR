{
  "nbformat": 4,
  "nbformat_minor": 0,
  "metadata": {
    "colab": {
      "provenance": []
    },
    "kernelspec": {
      "name": "python3",
      "display_name": "Python 3"
    },
    "language_info": {
      "name": "python"
    }
  },
  "cells": [
    {
      "cell_type": "markdown",
      "source": [
        "#**MACHINE LEARNING**"
      ],
      "metadata": {
        "id": "mO-Lg2yLzNho"
      }
    },
    {
      "cell_type": "markdown",
      "source": [
        "##SUPERVISED LEARNING<BR>\n",
        "Supervised learning is a type of machine learning algorithm that learns from labeled data. Labeled data is data that has been tagged with a correct answer or classification.\n",
        "\n",
        "**Example:** Email Filtering\n",
        "\n",
        "Supervised learning is commonly used in email filtering to classify incoming emails as spam or legitimate. A machine learning algorithm is trained using a labeled dataset containing examples of both spam and legitimate emails. The algorithm then extracts relevant information from each email, such as the sender’s information, the subject, the message body, and so on. It learns from the labeled dataset to identify patterns and relationships between these features and their corresponding labels (spam or legitimate). Once trained, the algorithm can use the extracted features to predict the label of new, unseen emails. If an email is predicted to be spam, it can be automatically filtered into a spam folder, saving the user’s inbox space.\n"
      ],
      "metadata": {
        "id": "qS5Y0yepzl3o"
      }
    },
    {
      "cell_type": "markdown",
      "source": [
        "Key Points:\n",
        "\n",
        "\n",
        "\n",
        "*   Supervised learning involves training a machine from labeled data.\n",
        "*   Labeled data consists of examples with the correct answer or classification.\n",
        "*   The machine learns the relationship between inputs (fruit images) and outputs (fruit labels).\n",
        "*   The trained machine can then make predictions on new, unlabeled data.\n",
        "\n",
        "\n",
        "\n",
        "\n"
      ],
      "metadata": {
        "id": "VpCXNycN0xv-"
      }
    },
    {
      "cell_type": "markdown",
      "source": [
        "**Types of Supervised Learning**<BR>\n",
        "Supervised learning is classified into two categories of algorithms:\n",
        "\n",
        "Regression: A regression problem is when the output variable is a real value, such as “dollars” or “weight”.\n",
        "\n",
        "Classification: A classification problem is when the output variable is a category, such as “Red” or “blue” , “disease” or “no disease”."
      ],
      "metadata": {
        "id": "xT-9K8Zb03jo"
      }
    },
    {
      "cell_type": "markdown",
      "source": [
        "##UNSUPERVISED LEARNING\n",
        "Unsupervised learning is a type of machine learning that learns from unlabeled data. This means that the data does not have any pre-existing labels or categories. The goal of unsupervised learning is to discover patterns and relationships in the data without any explicit guidance.\n",
        "\n",
        "**Example:** Natural language processing (NLP)\n",
        "\n",
        "Unsupervised learning is commonly used for various NLP applications, such as categorizing articles in news sections, text translation and classification, or speech recognition in conversational interfaces."
      ],
      "metadata": {
        "id": "BjXMVmuf1jkY"
      }
    },
    {
      "cell_type": "markdown",
      "source": [
        "Key Points:\n",
        "\n",
        "*   Unsupervised learning allows the model to discover patterns and relationships in unlabeled data.\n",
        "*   Clustering algorithms group similar data points together based on their inherent characteristics.\n",
        "*   Feature extraction captures essential information from the data, enabling the model to make meaningful distinctions.\n",
        "*   Label association assigns categories to the clusters based on the extracted patterns and characteristics."
      ],
      "metadata": {
        "id": "08Y_ZQD52Nde"
      }
    },
    {
      "cell_type": "markdown",
      "source": [
        "##REINFORCEMENT LEARNING"
      ],
      "metadata": {
        "id": "Z6EkwPeL5ntt"
      }
    },
    {
      "cell_type": "markdown",
      "source": [
        "Reinforcement learning is an area of Machine Learning. It is about taking suitable action to maximize reward in a particular situation. It is employed by various software and machines to find the best possible behavior or path it should take in a specific situation. Reinforcement learning differs from supervised learning in a way that in supervised learning the training data has the answer key with it so the model is trained with the correct answer itself whereas in reinforcement learning, there is no answer but the reinforcement agent decides what to do to perform the given task. In the absence of a training dataset, it is bound to learn from its experience.\n",
        "\n",
        "**Example:**\n",
        "Suppose there is an AI agent present within a maze environment, and his goal is to find the diamond. The agent interacts with the environment by performing some actions, and based on those actions, the state of the agent gets changed, and it also receives a reward or penalty as feedback."
      ],
      "metadata": {
        "id": "Rll-4RmZ5nlC"
      }
    },
    {
      "cell_type": "markdown",
      "source": [
        "Key Points:\n",
        "\n",
        "\n",
        "*  Input: The input should be an initial state from which the model will start\n",
        "*  Output: There are many possible outputs as there are a variety of solutions to a particular problem\n",
        "*  Training: The training is based upon the input, The model will return a state and the user will decide to reward or punish the model based on its output.\n",
        "*  The model keeps continues to learn.\n",
        "*  The best solution is decided based on the maximum reward."
      ],
      "metadata": {
        "id": "DqqfRHsN6IZC"
      }
    },
    {
      "cell_type": "markdown",
      "source": [
        "##CLASSIFICATION VS REGRESSION VS CLUSTERING\n",
        "**Key Differences:**\n",
        "* Goal:\n",
        "\n",
        "  Classification Goal: Assign input data into predefined categories or classes.<br>Unsupervised Goal: To predict a continuous value based on input data.<br>Reinforcement Goal: To group a set of objects in such a way that objects in the same group (cluster) are more similar to each other than to those in other groups\n",
        "\n",
        "* Output Type: Classification produces discrete labels, regression produces continuous values, and clustering produces groups or clusters.\n",
        "* Supervision: Classification and regression are supervised learning tasks (require labeled data), while clustering is an unsupervised learning task (does not require labeled data).\n",
        "* Purpose: Classification assigns inputs to predefined classes, regression predicts continuous outcomes, and clustering identifies natural groupings in the data."
      ],
      "metadata": {
        "id": "xh_KhTayG_F5"
      }
    }
  ]
}