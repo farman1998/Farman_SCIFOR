{
  "nbformat": 4,
  "nbformat_minor": 0,
  "metadata": {
    "colab": {
      "provenance": [],
      "authorship_tag": "ABX9TyPPPRRg3zIl0Gp+D0q4taU3",
      "include_colab_link": true
    },
    "kernelspec": {
      "name": "python3",
      "display_name": "Python 3"
    },
    "language_info": {
      "name": "python"
    }
  },
  "cells": [
    {
      "cell_type": "markdown",
      "metadata": {
        "id": "view-in-github",
        "colab_type": "text"
      },
      "source": [
        "<a href=\"https://colab.research.google.com/github/farman1998/Farman_SCIFOR/blob/main/weekly_test1.ipynb\" target=\"_parent\"><img src=\"https://colab.research.google.com/assets/colab-badge.svg\" alt=\"Open In Colab\"/></a>"
      ]
    },
    {
      "cell_type": "code",
      "execution_count": null,
      "metadata": {
        "id": "J49KMPOm72Y5"
      },
      "outputs": [],
      "source": []
    },
    {
      "cell_type": "markdown",
      "source": [
        "# Weekly test  1"
      ],
      "metadata": {
        "id": "VuTPcxhR74zy"
      }
    },
    {
      "cell_type": "code",
      "source": [
        "# Q.3 Single level inheritance:\n"
      ],
      "metadata": {
        "id": "jCtMoym68CNe"
      },
      "execution_count": null,
      "outputs": []
    },
    {
      "cell_type": "markdown",
      "source": [
        "## Q.3 Single level inheritance:\n",
        "#### in single-level inheritance there are two classes parents class and child class only where child class inherit some properties from parent class."
      ],
      "metadata": {
        "id": "O5gMyjXo8adS"
      }
    },
    {
      "cell_type": "code",
      "source": [
        "##code for single level inheritance:\n",
        "# Base class\n",
        "class Parent:\n",
        "\tdef identity(self):\n",
        "\t\tprint(\"tall height\")\n",
        "\n",
        "# Derived class\n",
        "class Child(Parent):\n",
        "\tdef skin(self):\n",
        "\t\tprint(\"fair colour\")\n",
        "\n",
        "# Driver's code\n",
        "object = Child()\n",
        "object.identity()\n",
        "object.skin()\n"
      ],
      "metadata": {
        "colab": {
          "base_uri": "https://localhost:8080/"
        },
        "id": "E3WmBdCA87jH",
        "outputId": "10f8cbe2-479d-477a-9e60-cf65c33641c2"
      },
      "execution_count": 3,
      "outputs": [
        {
          "output_type": "stream",
          "name": "stdout",
          "text": [
            "tall height\n",
            "fair colour\n"
          ]
        }
      ]
    },
    {
      "cell_type": "markdown",
      "source": [
        "## Q.4 Multi-level inheritance:\n",
        "#### In multilevel inheritance there are more than two classes and its like a chain A class inherits class B and B class inherits class C. We can see class B play acts as child role and parents role also."
      ],
      "metadata": {
        "id": "Da4MKzrE-Nu6"
      }
    },
    {
      "cell_type": "code",
      "source": [
        "## code for multilevel inheritance\n",
        "#base class\n",
        "class vehicle:\n",
        "  def Function(self):\n",
        "    print(\"run with low human efforts\")\n",
        "\n",
        "#derived class\n",
        "class car(vehicle):\n",
        "  def Tire(self):\n",
        "    print(\"it has 4 tire\")\n",
        "\n",
        "#further derived class\n",
        "class bmw(car):\n",
        "  def Roof(self):\n",
        "    print(\"open roof\")\n",
        "\n",
        "b=bmw()\n",
        "b.Function()\n",
        "b.Tire()\n",
        "b.Roof()\n",
        "\n"
      ],
      "metadata": {
        "colab": {
          "base_uri": "https://localhost:8080/"
        },
        "id": "ec7qlp89_FMt",
        "outputId": "d0bb65f8-a6a4-4b6f-e013-12dc2278fc6d"
      },
      "execution_count": 15,
      "outputs": [
        {
          "output_type": "stream",
          "name": "stdout",
          "text": [
            "run with low human efforts\n",
            "it has 4 tire\n",
            "open roof\n"
          ]
        }
      ]
    },
    {
      "cell_type": "markdown",
      "source": [
        "## Q.5 Conditional statements:\n",
        "#### if we have some condition to apply in our code then we use conditional statements. we have IF, ELSE, ELSE-IF, and NESTED IF keywords that is used in conditional statements.\n",
        "\n"
      ],
      "metadata": {
        "id": "hqCBYk8GD0Ui"
      }
    },
    {
      "cell_type": "code",
      "source": [
        "#PROGRAM FOR CHECK CANDIDATE IS ELIGIBLE FOR VOTE OR NOT.\n",
        "x = 20\n",
        "\n",
        "if x >= 18:\n",
        "  print(\"they can vote,\")\n",
        "  if x < 18:\n",
        "    print(\"the cant vote\")\n",
        "  else:\n",
        "    print(\"THAN YOU\")"
      ],
      "metadata": {
        "colab": {
          "base_uri": "https://localhost:8080/"
        },
        "id": "44feznU8E3t8",
        "outputId": "65c717e8-fa16-4712-f0a6-8f9cc6318233"
      },
      "execution_count": 21,
      "outputs": [
        {
          "output_type": "stream",
          "name": "stdout",
          "text": [
            "they can vote,\n",
            "THAN YOU\n"
          ]
        }
      ]
    },
    {
      "cell_type": "markdown",
      "source": [
        "## Q.9 Function:\n",
        "#### Its a block of code that is used to  perform some specific task. its only work when you called it.\n"
      ],
      "metadata": {
        "id": "xVxpF90rGS3s"
      }
    },
    {
      "cell_type": "code",
      "source": [
        "def function(): #here function is used to print sentance.\n",
        "  print(\"my name is farman\")"
      ],
      "metadata": {
        "id": "8KbEmnFFG7GH"
      },
      "execution_count": 23,
      "outputs": []
    },
    {
      "cell_type": "code",
      "source": [],
      "metadata": {
        "id": "GECXogKHHGFb"
      },
      "execution_count": null,
      "outputs": []
    },
    {
      "cell_type": "markdown",
      "source": [
        "## Q.9 Pillars of Oops in Python:\n",
        "#### Its a block of code that is used to  perform some specific task. its only work when you called it.\n",
        "\n",
        "Ans: there are six pillar of oops in python\n",
        "\n",
        "1.Class\n",
        "2.Object\n",
        "3.Inheritance\n",
        "4.Polymorphism\n",
        "5.Abstraction\n",
        "6.Encapsulation"
      ],
      "metadata": {
        "id": "k0my_UByHTZ4"
      }
    },
    {
      "cell_type": "code",
      "source": [],
      "metadata": {
        "id": "cS8oMyUnIKOi"
      },
      "execution_count": null,
      "outputs": []
    }
  ]
}